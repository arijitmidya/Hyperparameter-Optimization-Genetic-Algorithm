{
 "cells": [
  {
   "attachments": {
    "db00fa83-d2c7-454a-8609-4cb00fda2394.png": {
     "image/png": "[encoded data removed]"
    }
   },
   "cell_type": "markdown",
   "metadata": {
    "id": "P7L31qacVGTs",
    "pycharm": {
     "name": "#%% md\n"
    }
   },
   "source": [
    "# Genetic algorithm\n",
    "\n",
    "What is the genetic algorithm?\n",
    "\r\n",
    "The genetic algorithm is a heuristic search algorithm that is inspired by Charles Darwnin’s theory of natural evolution. This algorithm reflects the process of natural selection, where the fittest individuals are selected for reproduction to produce the offspring of the next generation. The same idea is also implemented for hyperparameter optimization to find the values of different hyperparameters that can produce the best-performing ML model.\r\n",
    "\r\n",
    "Genetic algorithms are widely used for solving optimization problems such as:\r\n",
    "\r\n",
    "Finding the optimal configuration of parameters or variables in engineering design\r\n",
    "\r\n",
    "Optimizing financial portfolios\r\n",
    "\r\n",
    "Aligning sequences, predicting protein structures, and selecting optimal genes in bioin\n",
    "\n",
    "![image.png](attachment:db00fa83-d2c7-454a-8609-4cb00fda2394.png)\n",
    "\n",
    "How does the genetic algorithm work?\n",
    "\r\n",
    "There are five phases in the genetic algorithm, which are as follows:\r\n",
    "\r\n",
    "Initialization: The first phase is generating a population of individuals, where each individual is a solution to the problem we want to solve (also known as a chromosome). The individual is characterized by a set of parameters (variables) known as genes. These genes are joined into a string to form a chromosome (solution).\r\n",
    "\r\n",
    "Fitness assignment: The second phase is to use the fitness function to determine how fit an individual is, which means the ability of an individual to compete with other individuals. The fitness function will show the fitness score of each individual from the population.\r\n",
    "\r\n",
    "Selection: The third phase is to implement the selection process based on the fitness score assigned to each individual. The fittest individuals are selected to be used for reproduction by passing their genes to the next generations. At this phase, the rank-based selection method or tournament selection method can be applied to the fittest individuals based on their fitness scores. The tournament selection method is used to randomly select a subset of individuals from the population and then evaluate the fitness of each individual in the tournament. Finally, it chooses the best individual from the subset to be a parent.\r\n",
    "\r\n",
    "Crossover (reproduction): This is the most significant phase in a genetic algorithm. Once the selected parents are chosen, crossover operations are applied to create new offspring. This can be done by combining two parent solutions (exchanging their genes) until the crossover point is reached. Then, new offspring will be added to the population.\r\n",
    "\r\n",
    "Termination: The last phase is where the algorithm terminates if the population has converged, which means it does not produce offspring that are significantly different from the previous generation.\r\n",
    "\r\n",
    "Finally, the genetic algorithm has provided a set of solutions to our problem. For our case, it will be an ML model with the best combination of hyperparameters’ values that produce the best performance compared to other \n",
    "\n",
    "Benefits of the genetic algorithm : \n",
    "\r\n",
    "Global search capability is one of the main advantages of genetic algorithms over traditional hyperparameter optimization methods like grid search and random search. Genetic algorithms maintain a population of candidate solutions. This population-based approach enables the algorithm to explore multiple combinations of the hyperparameter space at each iteration, making it more adept at escaping local optima and finding globally optimal solutions.\r\n",
    "\r\n",
    "Another notable strength of genetic algorithms lies in their ability to efficiently optimize high-dimensional hyperparameter spaces. This is achieved through a process known as crossover, where two candidate solutions are combined to generate a new solution. By leveraging this mechanism, genetic algorithms can navigate complex, multi-dimensional spaces more effectively than traditional methods.\r\n",
    "\r\n",
    "Genetic algorithms offer a powerful optimization tool for hyperparameter tuning tasks, but they require careful consideration of the underlying problem structure, the choice of operators, and the interpretation of results. Interpreting the results involves understanding whether the algorithm has converged to a good solution or if it needs more exploration to find better solutions. It is often recommended to run the algorithm multiple times and analyze the distribution of results to draw meaningful conclusions.combinations.formatics"
   ]
  },
  {
   "attachments": {},
   "cell_type": "markdown",
   "metadata": {
    "id": "C6Ndf4eGVGTv",
    "pycharm": {
     "name": "#%% md\n"
    }
   },
   "source": [
    "## Import Important packages\n",
    "First, we import important Python packages that will do the following tasks:\n",
    "\n",
    "- Load the dataset.\n",
    "- Clean the dataset.\n",
    "- Process the dataset using feature engineering techniques.\n",
    "- Create and train machine learning model (K-nearest neighbors algorithm) with default hyperparameters.\n",
    "- Check machine learning model performance.\n",
    "- Implement the genetic algorithm using TPOT library.\n",
    "- Identify combination of hyperparameters that provide the best results."
   ]
  },
  {
   "cell_type": "code",
   "execution_count": 1,
   "metadata": {
    "ExecuteTime": {
     "end_time": "2023-10-24T20:04:35.225599Z",
     "start_time": "2023-10-24T20:04:35.212375Z"
    },
    "id": "PAGezvPYVGTw",
    "pycharm": {
     "name": "#%%\n"
    }
   },
   "outputs": [],
   "source": [
    "# Import important modules\n",
    "import numpy as np\n",
    "import pandas as pd\n",
    "\n",
    "# sklearn modules\n",
    "from sklearn.neighbors import KNeighborsClassifier\n",
    "from sklearn.metrics import f1_score\n",
    "from sklearn.model_selection import cross_val_score\n",
    "from sklearn.preprocessing import MinMaxScaler\n",
    "\n",
    "import warnings\n",
    "warnings.filterwarnings(\"ignore\")\n",
    "# Seeding\n",
    "np.random.seed(123)"
   ]
  },
  {
   "attachments": {},
   "cell_type": "markdown",
   "metadata": {
    "id": "An9p1NACVGTx",
    "pycharm": {
     "name": "#%% md\n"
    }
   },
   "source": [
    "\n",
    "## Load the dataset\n",
    "We will use pandas to load the dataset from the data folder. The name of the dataset is\n",
    "loan_data.csv."
   ]
  },
  {
   "cell_type": "code",
   "execution_count": 2,
   "metadata": {
    "ExecuteTime": {
     "end_time": "2023-10-24T20:04:35.252585Z",
     "start_time": "2023-10-24T20:04:35.228259Z"
    },
    "id": "tWDH_joeVGTy",
    "pycharm": {
     "name": "#%%\n"
    }
   },
   "outputs": [],
   "source": [
    "# Load data\n",
    "\n",
    "data_path = \"loan_data.csv\"\n",
    "\n",
    "data = pd.read_csv(data_path)"
   ]
  },
  {
   "attachments": {},
   "cell_type": "markdown",
   "metadata": {
    "id": "UFp6VbuZVGTy",
    "pycharm": {
     "name": "#%% md\n"
    }
   },
   "source": [
    "Let’s see the first five rows of the dataset using the head() method from pandas."
   ]
  },
  {
   "cell_type": "code",
   "execution_count": 3,
   "metadata": {
    "ExecuteTime": {
     "end_time": "2023-10-24T20:04:35.298112Z",
     "start_time": "2023-10-24T20:04:35.254267Z"
    },
    "colab": {
     "base_uri": "https://localhost:8080/",
     "height": 244
    },
    "id": "PqpFrRTSVGTy",
    "outputId": "68fd76f5-e4d8-4250-ba88-f85102d77104",
    "pycharm": {
     "name": "#%%\n"
    }
   },
   "outputs": [
    {
     "data": {
      "text/html": [
       "<div>\n",
       "<style scoped>\n",
       "    .dataframe tbody tr th:only-of-type {\n",
       "        vertical-align: middle;\n",
       "    }\n",
       "\n",
       "    .dataframe tbody tr th {\n",
       "        vertical-align: top;\n",
       "    }\n",
       "\n",
       "    .dataframe thead th {\n",
       "        text-align: right;\n",
       "    }\n",
       "</style>\n",
       "<table border=\"1\" class=\"dataframe\">\n",
       "  <thead>\n",
       "    <tr style=\"text-align: right;\">\n",
       "      <th></th>\n",
       "      <th>Loan_ID</th>\n",
       "      <th>Gender</th>\n",
       "      <th>Married</th>\n",
       "      <th>Dependents</th>\n",
       "      <th>Education</th>\n",
       "      <th>Self_Employed</th>\n",
       "      <th>ApplicantIncome</th>\n",
       "      <th>CoapplicantIncome</th>\n",
       "      <th>LoanAmount</th>\n",
       "      <th>Loan_Amount_Term</th>\n",
       "      <th>Credit_History</th>\n",
       "      <th>Property_Area</th>\n",
       "      <th>Loan_Status</th>\n",
       "    </tr>\n",
       "  </thead>\n",
       "  <tbody>\n",
       "    <tr>\n",
       "      <th>0</th>\n",
       "      <td>LP001002</td>\n",
       "      <td>Male</td>\n",
       "      <td>No</td>\n",
       "      <td>0</td>\n",
       "      <td>Graduate</td>\n",
       "      <td>No</td>\n",
       "      <td>5849</td>\n",
       "      <td>0.0</td>\n",
       "      <td>NaN</td>\n",
       "      <td>360.0</td>\n",
       "      <td>1.0</td>\n",
       "      <td>Urban</td>\n",
       "      <td>Y</td>\n",
       "    </tr>\n",
       "    <tr>\n",
       "      <th>1</th>\n",
       "      <td>LP001003</td>\n",
       "      <td>Male</td>\n",
       "      <td>Yes</td>\n",
       "      <td>1</td>\n",
       "      <td>Graduate</td>\n",
       "      <td>No</td>\n",
       "      <td>4583</td>\n",
       "      <td>1508.0</td>\n",
       "      <td>128.0</td>\n",
       "      <td>360.0</td>\n",
       "      <td>1.0</td>\n",
       "      <td>Rural</td>\n",
       "      <td>N</td>\n",
       "    </tr>\n",
       "    <tr>\n",
       "      <th>2</th>\n",
       "      <td>LP001005</td>\n",
       "      <td>Male</td>\n",
       "      <td>Yes</td>\n",
       "      <td>0</td>\n",
       "      <td>Graduate</td>\n",
       "      <td>Yes</td>\n",
       "      <td>3000</td>\n",
       "      <td>0.0</td>\n",
       "      <td>66.0</td>\n",
       "      <td>360.0</td>\n",
       "      <td>1.0</td>\n",
       "      <td>Urban</td>\n",
       "      <td>Y</td>\n",
       "    </tr>\n",
       "    <tr>\n",
       "      <th>3</th>\n",
       "      <td>LP001006</td>\n",
       "      <td>Male</td>\n",
       "      <td>Yes</td>\n",
       "      <td>0</td>\n",
       "      <td>Not Graduate</td>\n",
       "      <td>No</td>\n",
       "      <td>2583</td>\n",
       "      <td>2358.0</td>\n",
       "      <td>120.0</td>\n",
       "      <td>360.0</td>\n",
       "      <td>1.0</td>\n",
       "      <td>Urban</td>\n",
       "      <td>Y</td>\n",
       "    </tr>\n",
       "    <tr>\n",
       "      <th>4</th>\n",
       "      <td>LP001008</td>\n",
       "      <td>Male</td>\n",
       "      <td>No</td>\n",
       "      <td>0</td>\n",
       "      <td>Graduate</td>\n",
       "      <td>No</td>\n",
       "      <td>6000</td>\n",
       "      <td>0.0</td>\n",
       "      <td>141.0</td>\n",
       "      <td>360.0</td>\n",
       "      <td>1.0</td>\n",
       "      <td>Urban</td>\n",
       "      <td>Y</td>\n",
       "    </tr>\n",
       "  </tbody>\n",
       "</table>\n",
       "</div>"
      ],
      "text/plain": [
       "    Loan_ID Gender Married Dependents     Education Self_Employed  \\\n",
       "0  LP001002   Male      No          0      Graduate            No   \n",
       "1  LP001003   Male     Yes          1      Graduate            No   \n",
       "2  LP001005   Male     Yes          0      Graduate           Yes   \n",
       "3  LP001006   Male     Yes          0  Not Graduate            No   \n",
       "4  LP001008   Male      No          0      Graduate            No   \n",
       "\n",
       "   ApplicantIncome  CoapplicantIncome  LoanAmount  Loan_Amount_Term  \\\n",
       "0             5849                0.0         NaN             360.0   \n",
       "1             4583             1508.0       128.0             360.0   \n",
       "2             3000                0.0        66.0             360.0   \n",
       "3             2583             2358.0       120.0             360.0   \n",
       "4             6000                0.0       141.0             360.0   \n",
       "\n",
       "   Credit_History Property_Area Loan_Status  \n",
       "0             1.0         Urban           Y  \n",
       "1             1.0         Rural           N  \n",
       "2             1.0         Urban           Y  \n",
       "3             1.0         Urban           Y  \n",
       "4             1.0         Urban           Y  "
      ]
     },
     "execution_count": 3,
     "metadata": {},
     "output_type": "execute_result"
    }
   ],
   "source": [
    "# Show top five rows of data\n",
    "data.head()"
   ]
  },
  {
   "attachments": {},
   "cell_type": "markdown",
   "metadata": {
    "id": "b9LxHByuVGTz",
    "pycharm": {
     "name": "#%% md\n"
    }
   },
   "source": [
    "As we can see, the dataset has 13 columns.\n",
    "\n",
    "- Loan_ID: Unique loan ID\n",
    "- Gender: Male/Female \n",
    "- Married: Applicant married (Y/N)\n",
    "- Dependents: Number of dependents\n",
    "- Education: Applicant education (Graduate/Undergraduate)\n",
    "- Self_Employed: Self-employed (Y/N)\n",
    "- ApplicantIncome: Applicant income\n",
    "- CoapplicantIncome: Co-applicant income\n",
    "- LoanAmount: Loan amount in thousands\n",
    "- Loan_Amount_Term: Term of the loan in months\n",
    "- Credit_History: Credit history meets guidelines\n",
    "- Property_Area: Urban/Semi-Urban/Rural\n",
    "- Loan_Status: Loan approved (Y/N)\n",
    "\n",
    "The shape method from pandas will let us know the total number of rows and columns available in\n",
    "the dataset."
   ]
  },
  {
   "cell_type": "code",
   "execution_count": 4,
   "metadata": {
    "ExecuteTime": {
     "end_time": "2023-10-24T20:04:35.301951Z",
     "start_time": "2023-10-24T20:04:35.299435Z"
    },
    "colab": {
     "base_uri": "https://localhost:8080/"
    },
    "id": "iyNIdc7mVGTz",
    "outputId": "ebd756a4-c74c-4dd5-9019-e61b7fba196d",
    "pycharm": {
     "name": "#%%\n"
    }
   },
   "outputs": [
    {
     "data": {
      "text/plain": [
       "(614, 13)"
      ]
     },
     "execution_count": 4,
     "metadata": {},
     "output_type": "execute_result"
    }
   ],
   "source": [
    "# Check the shape of the data\n",
    "data.shape"
   ]
  },
  {
   "attachments": {},
   "cell_type": "markdown",
   "metadata": {
    "id": "tleF40sUVGT0"
   },
   "source": [
    "The dataset has 614 loan data."
   ]
  },
  {
   "attachments": {},
   "cell_type": "markdown",
   "metadata": {
    "id": "c0W2shflVGT0"
   },
   "source": [
    "The pandas method called info() provides more details about each column presented in the dataset."
   ]
  },
  {
   "cell_type": "code",
   "execution_count": 5,
   "metadata": {
    "ExecuteTime": {
     "end_time": "2023-10-24T20:04:35.317610Z",
     "start_time": "2023-10-24T20:04:35.304256Z"
    },
    "colab": {
     "base_uri": "https://localhost:8080/"
    },
    "id": "e5z53JPmVGT0",
    "outputId": "48581334-b5bb-4056-bfdd-78c7df7caa5f"
   },
   "outputs": [
    {
     "name": "stdout",
     "output_type": "stream",
     "text": [
      "<class 'pandas.core.frame.DataFrame'>\n",
      "RangeIndex: 614 entries, 0 to 613\n",
      "Data columns (total 13 columns):\n",
      " #   Column             Non-Null Count  Dtype  \n",
      "---  ------             --------------  -----  \n",
      " 0   Loan_ID            614 non-null    object \n",
      " 1   Gender             601 non-null    object \n",
      " 2   Married            611 non-null    object \n",
      " 3   Dependents         599 non-null    object \n",
      " 4   Education          614 non-null    object \n",
      " 5   Self_Employed      582 non-null    object \n",
      " 6   ApplicantIncome    614 non-null    int64  \n",
      " 7   CoapplicantIncome  614 non-null    float64\n",
      " 8   LoanAmount         592 non-null    float64\n",
      " 9   Loan_Amount_Term   600 non-null    float64\n",
      " 10  Credit_History     564 non-null    float64\n",
      " 11  Property_Area      614 non-null    object \n",
      " 12  Loan_Status        614 non-null    object \n",
      "dtypes: float64(4), int64(1), object(8)\n",
      "memory usage: 62.5+ KB\n"
     ]
    }
   ],
   "source": [
    "data.info()"
   ]
  },
  {
   "attachments": {},
   "cell_type": "markdown",
   "metadata": {
    "id": "3H-XYZ7DVGT0"
   },
   "source": [
    "The information above shows that the dataset has columns with different data types, such as object/string, integers, and float."
   ]
  },
  {
   "attachments": {},
   "cell_type": "markdown",
   "metadata": {
    "id": "XvvutjQdVGT0",
    "pycharm": {
     "name": "#%% md\n"
    }
   },
   "source": [
    "## Check missing values\n",
    "\n",
    "It is important to clean the dataset by checking if it has any missing values before starting to\n",
    "train the machine learning model.\n",
    "\n",
    "The following code will provide a total of missing values for each column presented in the dataset."
   ]
  },
  {
   "cell_type": "code",
   "execution_count": 6,
   "metadata": {
    "ExecuteTime": {
     "end_time": "2023-10-24T20:04:35.323685Z",
     "start_time": "2023-10-24T20:04:35.318821Z"
    },
    "colab": {
     "base_uri": "https://localhost:8080/"
    },
    "id": "hHJxn1sRVGT0",
    "outputId": "c8b9fbc3-5980-497c-a89b-adbec3a4ea49",
    "pycharm": {
     "name": "#%%\n"
    }
   },
   "outputs": [
    {
     "data": {
      "text/plain": [
       "Loan_ID               0\n",
       "Gender               13\n",
       "Married               3\n",
       "Dependents           15\n",
       "Education             0\n",
       "Self_Employed        32\n",
       "ApplicantIncome       0\n",
       "CoapplicantIncome     0\n",
       "LoanAmount           22\n",
       "Loan_Amount_Term     14\n",
       "Credit_History       50\n",
       "Property_Area         0\n",
       "Loan_Status           0\n",
       "dtype: int64"
      ]
     },
     "execution_count": 6,
     "metadata": {},
     "output_type": "execute_result"
    }
   ],
   "source": [
    "# Check the missing values in data\n",
    "data.isnull().sum()"
   ]
  },
  {
   "attachments": {},
   "cell_type": "markdown",
   "metadata": {
    "id": "o5HJUIBEVGT0",
    "pycharm": {
     "name": "#%% md\n"
    }
   },
   "source": [
    "The output shows that our dataset has some missing values in different columns."
   ]
  },
  {
   "attachments": {},
   "cell_type": "markdown",
   "metadata": {
    "id": "DckApLNQVGT0"
   },
   "source": [
    "First, let’s convert some values in the Loan_Status and Dependents columns into numerical values."
   ]
  },
  {
   "cell_type": "code",
   "execution_count": 7,
   "metadata": {},
   "outputs": [
    {
     "data": {
      "text/plain": [
       "0     345\n",
       "1     102\n",
       "2     101\n",
       "3+     51\n",
       "Name: Dependents, dtype: int64"
      ]
     },
     "execution_count": 7,
     "metadata": {},
     "output_type": "execute_result"
    }
   ],
   "source": [
    "data['Dependents'].value_counts()"
   ]
  },
  {
   "cell_type": "code",
   "execution_count": 8,
   "metadata": {},
   "outputs": [
    {
     "data": {
      "text/plain": [
       "Y    422\n",
       "N    192\n",
       "Name: Loan_Status, dtype: int64"
      ]
     },
     "execution_count": 8,
     "metadata": {},
     "output_type": "execute_result"
    }
   ],
   "source": [
    "data['Loan_Status'].value_counts()"
   ]
  },
  {
   "cell_type": "code",
   "execution_count": 9,
   "metadata": {
    "ExecuteTime": {
     "end_time": "2023-10-24T20:04:35.329057Z",
     "start_time": "2023-10-24T20:04:35.324876Z"
    },
    "id": "sOWFg7dPVGT0"
   },
   "outputs": [],
   "source": [
    "# Replace with numerical values\n",
    "data['Dependents'].replace('3+', 3,inplace=True)\n",
    "data['Loan_Status'].replace('N', 0,inplace=True)\n",
    "data['Loan_Status'].replace('Y', 1,inplace=True)"
   ]
  },
  {
   "attachments": {},
   "cell_type": "markdown",
   "metadata": {
    "id": "ayHkaicsVGT1"
   },
   "source": [
    "For columns with object data type, we use the mode() function from pandas to identify the most common value in that particular column and insert the identified value into all missing points in the column.\n",
    "\n",
    "For columns with numerical data type(int64 or float64), we use the median() function from pandas to find the median value in that particular column and insert the identified value into all missing points in the column."
   ]
  },
  {
   "cell_type": "code",
   "execution_count": 12,
   "metadata": {},
   "outputs": [
    {
     "data": {
      "text/plain": [
       "Loan_ID              0.00\n",
       "Gender               2.12\n",
       "Married              0.49\n",
       "Dependents           2.44\n",
       "Education            0.00\n",
       "Self_Employed        5.21\n",
       "ApplicantIncome      0.00\n",
       "CoapplicantIncome    0.00\n",
       "LoanAmount           3.58\n",
       "Loan_Amount_Term     2.28\n",
       "Credit_History       8.14\n",
       "Property_Area        0.00\n",
       "Loan_Status          0.00\n",
       "dtype: float64"
      ]
     },
     "execution_count": 12,
     "metadata": {},
     "output_type": "execute_result"
    }
   ],
   "source": [
    "round(100*(data.isnull().sum()/len(data.index)),2)"
   ]
  },
  {
   "cell_type": "code",
   "execution_count": 13,
   "metadata": {
    "ExecuteTime": {
     "end_time": "2023-10-24T20:04:35.338708Z",
     "start_time": "2023-10-24T20:04:35.330241Z"
    },
    "id": "C4hR2FomVGT1"
   },
   "outputs": [],
   "source": [
    "# Handle missing data\n",
    "data['Gender'].fillna(data['Gender'].mode()[0], inplace=True)\n",
    "data['Married'].fillna(data['Married'].mode()[0], inplace=True)\n",
    "data['Dependents'].fillna(data['Dependents'].mode()[0], inplace=True)\n",
    "data['Self_Employed'].fillna(data['Self_Employed'].mode()[0], inplace=True)\n",
    "data['Credit_History'].fillna(data['Credit_History'].mode()[0], inplace=True)\n",
    "data['Loan_Amount_Term'].fillna(data['Loan_Amount_Term'].mode()[0], inplace=True)\n",
    "data['LoanAmount'].fillna(data['LoanAmount'].median(), inplace=True)"
   ]
  },
  {
   "attachments": {},
   "cell_type": "markdown",
   "metadata": {
    "id": "xK-awXphVGT1"
   },
   "source": [
    "We drop the ID column because it is not used in the process of training a machine learning model."
   ]
  },
  {
   "cell_type": "code",
   "execution_count": 14,
   "metadata": {
    "ExecuteTime": {
     "end_time": "2023-10-24T20:04:35.343823Z",
     "start_time": "2023-10-24T20:04:35.340058Z"
    },
    "id": "trl2MnZPVGT1"
   },
   "outputs": [],
   "source": [
    "# Drop ID column\n",
    "data = data.drop('Loan_ID',axis=1)"
   ]
  },
  {
   "attachments": {},
   "cell_type": "markdown",
   "metadata": {
    "id": "0oTZB3ffVGT1"
   },
   "source": [
    "Let's check again if all missing values in the dataset have been handled."
   ]
  },
  {
   "cell_type": "code",
   "execution_count": 15,
   "metadata": {
    "ExecuteTime": {
     "end_time": "2023-10-24T20:04:35.349824Z",
     "start_time": "2023-10-24T20:04:35.345208Z"
    },
    "colab": {
     "base_uri": "https://localhost:8080/"
    },
    "id": "RkPTXzbHVGT1",
    "outputId": "95ec3fa9-cded-427c-96d7-d9af4848c269"
   },
   "outputs": [
    {
     "data": {
      "text/plain": [
       "Gender               0\n",
       "Married              0\n",
       "Dependents           0\n",
       "Education            0\n",
       "Self_Employed        0\n",
       "ApplicantIncome      0\n",
       "CoapplicantIncome    0\n",
       "LoanAmount           0\n",
       "Loan_Amount_Term     0\n",
       "Credit_History       0\n",
       "Property_Area        0\n",
       "Loan_Status          0\n",
       "dtype: int64"
      ]
     },
     "execution_count": 15,
     "metadata": {},
     "output_type": "execute_result"
    }
   ],
   "source": [
    "# Check missing values in data\n",
    "data.isnull().sum()"
   ]
  },
  {
   "attachments": {},
   "cell_type": "markdown",
   "metadata": {
    "ExecuteTime": {
     "end_time": "2023-03-28T18:54:34.003611Z",
     "start_time": "2023-03-28T18:54:33.988691Z"
    },
    "id": "4xLUWFfaVGT1"
   },
   "source": [
    "Finally, the dataset does not have any missing values."
   ]
  },
  {
   "attachments": {},
   "cell_type": "markdown",
   "metadata": {
    "id": "pjlDlsnvVGT1",
    "pycharm": {
     "name": "#%% md\n"
    }
   },
   "source": [
    "## How to evaluate class distribution\n",
    "Identifying the class distribution helps us to know if the dataset is balanced or not. The value_counts() method from the pandas package can evaluate the class distribution by showing the total number of each unique value in the target column."
   ]
  },
  {
   "cell_type": "code",
   "execution_count": 16,
   "metadata": {
    "ExecuteTime": {
     "end_time": "2023-10-24T20:04:35.356036Z",
     "start_time": "2023-10-24T20:04:35.351122Z"
    },
    "colab": {
     "base_uri": "https://localhost:8080/"
    },
    "id": "dfTTblLSVGT1",
    "outputId": "9a737fee-cd35-4448-b90d-22d8382b77cd",
    "pycharm": {
     "name": "#%%\n"
    }
   },
   "outputs": [
    {
     "data": {
      "text/plain": [
       "1    422\n",
       "0    192\n",
       "Name: Loan_Status, dtype: int64"
      ]
     },
     "execution_count": 16,
     "metadata": {},
     "output_type": "execute_result"
    }
   ],
   "source": [
    "# Evaluate Loan_status column\n",
    "data.Loan_Status.value_counts()"
   ]
  },
  {
   "attachments": {},
   "cell_type": "markdown",
   "metadata": {
    "id": "FH64dK_PVGT1",
    "pycharm": {
     "name": "#%% md\n"
    }
   },
   "source": [
    "This shows that in this dataset, the distribution in the target column is unequal. There are more 1 values (Yes) than 0 values (No)."
   ]
  },
  {
   "attachments": {},
   "cell_type": "markdown",
   "metadata": {
    "id": "Hqjk7bxDVGT1",
    "pycharm": {
     "name": "#%% md\n"
    }
   },
   "source": [
    "## Split data into feature and target variables\n",
    "\n",
    "The next step is to split data into feature and target variables."
   ]
  },
  {
   "cell_type": "code",
   "execution_count": 17,
   "metadata": {
    "ExecuteTime": {
     "end_time": "2023-10-24T20:04:35.360034Z",
     "start_time": "2023-10-24T20:04:35.357298Z"
    },
    "id": "yXCLng-RVGT2",
    "pycharm": {
     "name": "#%%\n"
    }
   },
   "outputs": [],
   "source": [
    "#Split features and target from  data\n",
    "X = data.drop('Loan_Status',axis = 1)\n",
    "y = data.Loan_Status.values"
   ]
  },
  {
   "attachments": {},
   "cell_type": "markdown",
   "metadata": {
    "id": "Rmpy8R1XVGT2",
    "pycharm": {
     "name": "#%% md\n"
    }
   },
   "source": [
    "The target is the Loan_Status variable."
   ]
  },
  {
   "attachments": {},
   "cell_type": "markdown",
   "metadata": {
    "id": "I6bXD8YxVGT2",
    "pycharm": {
     "name": "#%% md\n"
    }
   },
   "source": [
    "## Preprocess the features\n",
    "\n",
    "However, before we train the machine learning model, we need to transform our features into numerical values so that the machine learning model can understand the data. In this case, we will use: \n",
    "\n",
    "- The **MinMaxScaler()** method from scikit-learn to scale the minimum and maximum values to be 0 and 1, respectively, for the columns with int64 and float64 data types.\n",
    "- The **get_dummies()** method from pandas to convert categorical variables into indicator variables. These variables will have a value of 0 or 1. This method can automatically identify categorical variables and convert them into indicator variables with a value of 0 or 1."
   ]
  },
  {
   "cell_type": "code",
   "execution_count": 18,
   "metadata": {
    "ExecuteTime": {
     "end_time": "2023-10-24T20:04:35.366204Z",
     "start_time": "2023-10-24T20:04:35.361172Z"
    },
    "id": "S3DO026EVGT2",
    "pycharm": {
     "name": "#%%\n"
    }
   },
   "outputs": [],
   "source": [
    "#Scale the numerical columns with MinMaxScaler()\n",
    "X[\"ApplicantIncome\"] = MinMaxScaler().fit_transform(X[\"ApplicantIncome\"].values.reshape(-1,1))\n",
    "X[\"LoanAmount\"] = MinMaxScaler().fit_transform(X[\"LoanAmount\"].values.reshape(-1,1))\n",
    "X[\"CoapplicantIncome\"] = MinMaxScaler().fit_transform(X[\"CoapplicantIncome\"].values.reshape(-1,1))\n",
    "X[\"Loan_Amount_Term\"] = MinMaxScaler().fit_transform(X[\"Loan_Amount_Term\"].values.reshape(-1,1))"
   ]
  },
  {
   "cell_type": "code",
   "execution_count": 19,
   "metadata": {
    "ExecuteTime": {
     "end_time": "2023-10-24T20:04:35.375090Z",
     "start_time": "2023-10-24T20:04:35.369266Z"
    },
    "id": "5wMXYJqsVGT2"
   },
   "outputs": [],
   "source": [
    "#Change categorical features to numerical with get_dummies()\n",
    "X = pd.get_dummies(X)\n",
    "\n",
    "#Convert the DataFrame to a NumPy array.\n",
    "X = X.to_numpy()"
   ]
  },
  {
   "attachments": {},
   "cell_type": "markdown",
   "metadata": {
    "id": "SQ9o3DA4VGT2",
    "pycharm": {
     "name": "#%% md\n"
    }
   },
   "source": [
    "## Train a base machine learning model\n",
    "\n",
    "In this example, we will train the K-nearest neighbors algorithm with default hyperparameter values using the cross-validation technique to check the model performance."
   ]
  },
  {
   "cell_type": "code",
   "execution_count": 20,
   "metadata": {
    "ExecuteTime": {
     "end_time": "2023-10-24T20:04:35.378820Z",
     "start_time": "2023-10-24T20:04:35.376030Z"
    },
    "id": "FZ6iUWdPVGT2",
    "pycharm": {
     "name": "#%%\n"
    }
   },
   "outputs": [],
   "source": [
    "# Create a classifier\n",
    "from sklearn.neighbors import KNeighborsClassifier\n",
    "\n",
    "knn_classifier = KNeighborsClassifier()"
   ]
  },
  {
   "attachments": {},
   "cell_type": "markdown",
   "metadata": {
    "id": "X4fxBfdBVGT2"
   },
   "source": [
    "We will use the `cross_val_score()` method from scikit-learn to train and evaluate a machine learning model across numerous folds of the dataset. This cross-validation method provides a more comprehensive understanding of the model’s performance across the entire dataset than a simple train/test split.\n",
    "\n",
    "\n",
    "To use `cross_val_score()` method, we need to define the following parameters:\n",
    "\n",
    "1. `estimator`: The machine learning model object to fit the data\n",
    "2. `X`: The data/features to fit the machine learning model on\n",
    "3. `y`: The target variable of the model classification or regression tasks\n",
    "4. `scoring`: The evaluation error metric to use\n",
    "5. `cv`: The number of splits to use (example 3).\n",
    "\n",
    "\n",
    "The main goal is to prevent model over-fitting and promote model generalization.\n",
    "\n",
    "\n",
    "Note: The machine learning model’s performance will be evaluated using the f1_score evaluation metric. We use f1_score because we have an unequal number of classes in the Loan_Status variable."
   ]
  },
  {
   "cell_type": "code",
   "execution_count": 21,
   "metadata": {
    "ExecuteTime": {
     "end_time": "2023-10-24T20:04:50.935574Z",
     "start_time": "2023-10-24T20:04:49.712109Z"
    },
    "colab": {
     "base_uri": "https://localhost:8080/"
    },
    "id": "NFpfmjWlVGT2",
    "outputId": "f1bc292b-bce6-4529-8655-479dd6980763"
   },
   "outputs": [
    {
     "name": "stdout",
     "output_type": "stream",
     "text": [
      "0.5671\n"
     ]
    }
   ],
   "source": [
    "# Define function to evaluate f1_score\n",
    "def f1_scorer(estimator, X, y):\n",
    "    y_preds = estimator.predict(X)\n",
    "    f1 = f1_score(y, y_preds, average='macro')\n",
    "    return round(f1, 4)\n",
    "\n",
    "\n",
    "# Implement and run the cross-val-score method\n",
    "score = cross_val_score(estimator=knn_classifier,\n",
    "                        X=X,\n",
    "                        y=y,\n",
    "                        scoring=f1_scorer,\n",
    "                        cv=3,\n",
    "                        n_jobs=-1)\n",
    "\n",
    "# Print the mean score\n",
    "print(round(score.mean(), 4))"
   ]
  },
  {
   "attachments": {},
   "cell_type": "markdown",
   "metadata": {
    "id": "lx1TyBDvVGT2",
    "pycharm": {
     "name": "#%% md\n"
    }
   },
   "source": [
    "The mean score of our machine learning model is 0.5671, we need to improve the model performance in order to produce better results."
   ]
  },
  {
   "attachments": {},
   "cell_type": "markdown",
   "metadata": {
    "id": "mrQGFK6-VGT7",
    "pycharm": {
     "name": "#%% md\n"
    }
   },
   "source": [
    "\n",
    "## Implement the genetic algorithm\n",
    "\n",
    "Because we know how well the machine learning model works with the default hyperparameter values, we can try to improve the model’s performance by using the genetic algorithm to find the combination of hyperparameter values that can give an F1-score of more than 0.5671.\n",
    "\n",
    "The K-nearest neighbors algorithm has multiple hyperparameters, as shown below ([see the documentation](https://github.com/scikit-learn/scikit-learn/blob/364c77e04/sklearn/neighbors/_classification.py#L24)):\n",
    "\n",
    "`KNeighborsClassifier(n_neighbors=5, *, weights='uniform', algorithm='auto', leaf_size=30, p=2, metric='minkowski', metric_params=None, n_jobs=None`\n",
    "\n",
    "However, for this example, we will use the following important hyperparameters to find the right combination of their values to get an F1-score greater than 0.5671.\n",
    "\n",
    " - `n_neighbors`: The number of neighbors to use\n",
    "\n",
    "- `weights`: The weight function used in prediction\n",
    "\n",
    "- `algorithm`: The algorithm used to compute the nearest neighbors\n",
    "\n",
    "- `leaf_size`: The leaf size passed to BallTree or KDTree\n"
   ]
  },
  {
   "cell_type": "code",
   "execution_count": 22,
   "metadata": {
    "ExecuteTime": {
     "end_time": "2023-10-24T20:08:29.287747Z",
     "start_time": "2023-10-24T20:08:29.103491Z"
    },
    "colab": {
     "base_uri": "https://localhost:8080/"
    },
    "id": "05nDAYFGVGT7",
    "outputId": "8704b02a-759f-4249-85ea-51ba7c7bbe3f",
    "pycharm": {
     "name": "#%%\n"
    }
   },
   "outputs": [
    {
     "name": "stdout",
     "output_type": "stream",
     "text": [
      "{'n_neighbors': [5, 52, 100], 'weights': ['uniform', 'distance'], 'algorithm': ['auto', 'ball_tree', 'kd_tree', 'brute'], 'leaf_size': [10, 120, 230, 340, 450, 560, 670, 780, 890, 1000]}\n"
     ]
    }
   ],
   "source": [
    "# Define the options for the selected hyperparameters\n",
    "\n",
    "n_neighbors = [int(x) for x in np.linspace(start=5, stop=100, num=3)]\n",
    "weights = ['uniform', 'distance']\n",
    "algorithm = ['auto', 'ball_tree', 'kd_tree','brute']\n",
    "leaf_size = [int(x) for x in np.linspace(10, 1000, 10)]\n",
    "\n",
    "param = {\n",
    "    'n_neighbors': n_neighbors,\n",
    "    'weights': weights,\n",
    "    'algorithm': algorithm,\n",
    "    'leaf_size': leaf_size\n",
    "}\n",
    "print(param)"
   ]
  },
  {
   "attachments": {},
   "cell_type": "markdown",
   "metadata": {
    "id": "dFohCgWHVGT7",
    "pycharm": {
     "name": "#%% md\n"
    }
   },
   "source": [
    "To implement the genetic algorithm using the TPOT library, we need to define the following important parameters.\n",
    "\n",
    "- `generations`: A number of iterations to the run pipeline optimization process\n",
    "- `population_size`: A number of individuals to retain in the genetic programming population every generation\n",
    "- `offspring_size`: A number of offspring to produce in each genetic programming generation\n",
    "- `config_dict`:The configuration dictionary for customizing the model and parameters that TPOT searches in the optimization process\n",
    "- `scoring`: The function used to evaluate the quality or performance of a given pipeline for the classification problem\n",
    "- `CV`: Cross-validation strategy used when evaluating pipelines\n",
    "- `n_job`: The number of processes to use in parallel for evaluating pipelines during the TPOT optimization process\n"
   ]
  },
  {
   "cell_type": "code",
   "execution_count": 23,
   "metadata": {
    "ExecuteTime": {
     "end_time": "2023-10-31T11:38:31.781053Z",
     "start_time": "2023-10-31T11:38:30.535595Z"
    },
    "id": "rXMfa1XAPAth"
   },
   "outputs": [],
   "source": [
    "# Number of generations\n",
    "no_generations = 5\n",
    "\n",
    "# Number of population size\n",
    "no_population_size = 24\n",
    "\n",
    "# Number of offspring size\n",
    "no_offsptring_size = 12\n",
    "\n",
    "# The configuration dictionary\n",
    "knn_dictionary = {'sklearn.neighbors.KNeighborsClassifier': param}\n",
    "\n",
    "# The scoring method\n",
    "scoring_method = 'f1_macro'\n",
    "\n",
    "# Cross-validation splitting strategy\n",
    "cv = 3\n",
    "\n",
    "# Number of processes\n",
    "jobs = -1  # will use as many cores as available on the computer."
   ]
  },
  {
   "attachments": {},
   "cell_type": "markdown",
   "metadata": {
    "id": "Ev-I2Tp6PAth"
   },
   "source": [
    "The next step is to import `TPOPTClassifier` from the TPOT library and instantiate the genetic algorithm search."
   ]
  },
  {
   "cell_type": "code",
   "execution_count": 24,
   "metadata": {
    "id": "T7_Q5uS7VGT7"
   },
   "outputs": [],
   "source": [
    "# Import the TPOTclassifier from TPOT library.\n",
    "from tpot import TPOTClassifier\n",
    "\n",
    "# Define the genetic algorithm and the important parameters we have defined.\n",
    "tpot_classifier = TPOTClassifier(generations=no_generations,\n",
    "                                 population_size=no_population_size,\n",
    "                                 offspring_size=no_offsptring_size,\n",
    "                                 config_dict=knn_dictionary,\n",
    "                                 cv=cv,\n",
    "                                 scoring=scoring_method,\n",
    "                                 n_jobs=jobs,\n",
    "                                 verbosity=2,\n",
    "                                 early_stop=12,\n",
    "                                 random_state=42)"
   ]
  },
  {
   "attachments": {},
   "cell_type": "markdown",
   "metadata": {
    "id": "omApOCkNPAth"
   },
   "source": [
    "After defining everything that is required to optimize using the genetic algorithm, the search is executed using the `fit()` method with the training dataset."
   ]
  },
  {
   "cell_type": "code",
   "execution_count": 25,
   "metadata": {
    "colab": {
     "base_uri": "https://localhost:8080/",
     "height": 286,
     "referenced_widgets": [
      "44e2069a8cca4b9f9590bc9fb612eeb7",
      "24748067b50a4c9cbfca662d0b6423f4",
      "fe29b77a892c45e7bf4e0838f37169de",
      "f003b9d0d886426cbea25d55918b225b",
      "fd5a518320eb46b787ecf3ace46390b1",
      "e7a88ae50d734eaabdc0263e4b550406",
      "95f176e578ca40ebb3518b001457f7f5",
      "2c2adeb4585643749f51c46bb42174b4",
      "68dc045181094f1b9829cef1015be283",
      "6791ff6791884708aeb1a88b3b8fb721",
      "5a11c0ec8f6a4518a4af8a94f090b449"
     ]
    },
    "id": "HD1LzT_WPAth",
    "outputId": "31803a08-0ed5-42ec-f9a0-db2fafe5c7e9"
   },
   "outputs": [
    {
     "name": "stderr",
     "output_type": "stream",
     "text": [
      "Version 0.11.7 of tpot is outdated. Version 0.12.2 was released Friday February 23, 2024.\n"
     ]
    },
    {
     "data": {
      "application/vnd.jupyter.widget-view+json": {
       "model_id": "",
       "version_major": 2,
       "version_minor": 0
      },
      "text/plain": [
       "Optimization Progress:   0%|          | 0/84 [00:00<?, ?pipeline/s]"
      ]
     },
     "metadata": {},
     "output_type": "display_data"
    },
    {
     "name": "stdout",
     "output_type": "stream",
     "text": [
      "\n",
      "Generation 1 - Current best internal CV score: 0.6590349410265249\n",
      "\n",
      "Generation 2 - Current best internal CV score: 0.6590349410265249\n",
      "\n",
      "Generation 3 - Current best internal CV score: 0.6590349410265249\n",
      "\n",
      "Generation 4 - Current best internal CV score: 0.6590349410265249\n",
      "\n",
      "Generation 5 - Current best internal CV score: 0.6590349410265249\n",
      "\n",
      "Best pipeline: KNeighborsClassifier(CombineDFs(input_matrix, input_matrix), algorithm=brute, leaf_size=450, n_neighbors=5, weights=distance)\n"
     ]
    },
    {
     "data": {
      "text/plain": [
       "TPOTClassifier(config_dict={'sklearn.neighbors.KNeighborsClassifier': {'algorithm': ['auto',\n",
       "                                                                                     'ball_tree',\n",
       "                                                                                     'kd_tree',\n",
       "                                                                                     'brute'],\n",
       "                                                                       'leaf_size': [10,\n",
       "                                                                                     120,\n",
       "                                                                                     230,\n",
       "                                                                                     340,\n",
       "                                                                                     450,\n",
       "                                                                                     560,\n",
       "                                                                                     670,\n",
       "                                                                                     780,\n",
       "                                                                                     890,\n",
       "                                                                                     1000],\n",
       "                                                                       'n_neighbors': [5,\n",
       "                                                                                       52,\n",
       "                                                                                       100],\n",
       "                                                                       'weights': ['uniform',\n",
       "                                                                                   'distance']}},\n",
       "               cv=3, early_stop=12, generations=5, n_jobs=-1, offspring_size=12,\n",
       "               population_size=24, random_state=42, scoring='f1_macro',\n",
       "               verbosity=2)"
      ]
     },
     "execution_count": 25,
     "metadata": {},
     "output_type": "execute_result"
    }
   ],
   "source": [
    "# Execute the genetic search\n",
    "tpot_classifier.fit(X,y)"
   ]
  },
  {
   "attachments": {},
   "cell_type": "markdown",
   "metadata": {
    "id": "xEEqu2PEVGT8",
    "pycharm": {
     "name": "#%% md\n"
    }
   },
   "source": [
    "Note: The time it takes to run the search could range anywhere from a few minutes to hours, depending on the scope of the search space, dataset size, and the processing power of the hardware."
   ]
  },
  {
   "attachments": {},
   "cell_type": "markdown",
   "metadata": {
    "id": "7fuCp2RaVGT8",
    "pycharm": {
     "name": "#%% md\n"
    }
   },
   "source": [
    "At the end of the optimization, we can use the following attributes to access all the results.\n",
    "\n",
    "- `fitted_pipeline`: The best pipeline that TPOT discovered during the pipeline optimization process"
   ]
  },
  {
   "cell_type": "code",
   "execution_count": 26,
   "metadata": {
    "ExecuteTime": {
     "end_time": "2023-08-07T20:09:52.307645Z",
     "start_time": "2023-08-07T20:09:52.303078Z"
    },
    "colab": {
     "base_uri": "https://localhost:8080/"
    },
    "id": "uHgGKL51VGT8",
    "outputId": "e49b4dcb-9e9e-412b-9c99-f6a0182f01b0",
    "pycharm": {
     "name": "#%%\n"
    }
   },
   "outputs": [
    {
     "name": "stdout",
     "output_type": "stream",
     "text": [
      "best combination of hyperparameters: Pipeline(steps=[('featureunion',\n",
      "                 FeatureUnion(transformer_list=[('functiontransformer-1',\n",
      "                                                 FunctionTransformer(func=<function copy at 0x7c262d7ce280>)),\n",
      "                                                ('functiontransformer-2',\n",
      "                                                 FunctionTransformer(func=<function copy at 0x7c262d7ce280>))])),\n",
      "                ('kneighborsclassifier',\n",
      "                 KNeighborsClassifier(algorithm='brute', leaf_size=450,\n",
      "                                      weights='distance'))])\n"
     ]
    }
   ],
   "source": [
    "# Show the best combination of hyperparameters\n",
    "print(\"best combination of hyperparameters:\", tpot_classifier.fitted_pipeline_)"
   ]
  },
  {
   "attachments": {},
   "cell_type": "markdown",
   "metadata": {
    "id": "Dl7U6cUNVGT8"
   },
   "source": [
    "This shows that when the hyperparameters have the above values ia as follows:\n",
    "\n",
    "- `n_neighbors` = 5\n",
    "- `weights` = 'distance'\n",
    "- `algorithm` = 'brute'\n",
    "- `leaf_size` = 450\n",
    "\n",
    "These will produce the best result based on the defined search space."
   ]
  },
  {
   "attachments": {},
   "cell_type": "markdown",
   "metadata": {
    "id": "x6DH496cVGT8",
    "pycharm": {
     "name": "#%% md\n"
    }
   },
   "source": [
    "The best score is an F1-score of 0.6590 which is greater than 0.5671.\n",
    "\n",
    "As we can see the performance of the machine learning model has increased compared to the machine learning model trained with default hyperparameters."
   ]
  },
  {
   "attachments": {},
   "cell_type": "markdown",
   "metadata": {
    "id": "LKbB8K9XVGT9"
   },
   "source": [
    "It is recommended to add or change more options or values of hyperparameters on the **search space**, number of `generations`, `populations`, and `offspring_size` in the `TPOTClassifier()` method and then try to rerun it. It may be able to provide better results than what we have found."
   ]
  },
  {
   "cell_type": "markdown",
   "metadata": {
    "id": "jBuQTmG4Ykfp"
   },
   "source": [
    "# Advantages of the genetic algorithm\n",
    "\r\n",
    "Global search capability: Traditional hyperparameter optimization methods, such as grid search and random search, are often susceptible to getting stuck in local optima. This is because they typically explore the hyperparameter space in a sequential manner, starting from a single point. A genetic algorithm, on the other hand, is a population-based algorithm that maintains a set of candidate solutions at all times. This allows it to explore multiple parts of the hyperparameter space simultaneously and to escape local optima more easily\n",
    "\n",
    "Ability to optimize high-dimensional hyperparameter spaces: The genetic algorithm can efficiently optimize high-dimensional hyperparameter spaces by using a process called crossover. Crossover combines two candidate solutions to produce a new candidate solution. This allows the genetic algorithm to explore the hyperparameter space more efficiently and to find better hyperparameter settings than traditional methods.\n",
    "\n",
    "Parallelizability: The genetic algorithm can be easily parallelized, which can significantly speed up the hyperparameter optimization process (when the number of hyperparameters is few). This is because each hyperparameter candidate can be evaluated independently.\n",
    "\n",
    "# Disadvantages of the genetic algorithm\n",
    "\r\n",
    "Sensitivity to the initial population: The performance of the genetic algorithm can be sensitive to the initial population of candidate solutions (combinations of hyperparameters). If the initial population is not diverse enough, the algorithm can converge to a local optimum instead of the global optimum. It is recommended to add more options for each hyperparameter to avoid this problem\n",
    "\n",
    "Difficulty in tuning parameters: The genetic algorithm has a number of parameters that need to be tuned before the optimization process is initiated, such as the population size, crossover rate, and mutation rate. The optimal values of these parameters vary depending on the problem, and it can be difficult to find the best values without experimentation.\r\n",
    "\r\n",
    "Computational complexity: The genetics algorithm can be computationally expensive, especially for problems with a large number of hyperparameters or when the evaluation of each hyperparameter setting is time-consuming. This is because the genetic algorithm needs to evaluate a population of candidate solutions at each iteration, and the population size can be quite larg\n",
    "e..."
   ]
  },
  {
   "cell_type": "code",
   "execution_count": null,
   "metadata": {},
   "outputs": [],
   "source": []
  }
 ],
 "metadata": {
  "accelerator": "GPU",
  "colab": {
   "gpuType": "T4",
   "provenance": []
  },
  "hide_input": false,
  "kernelspec": {
   "display_name": "Python 3 (ipykernel)",
   "language": "python",
   "name": "python3"
  },
  "language_info": {
   "codemirror_mode": {
    "name": "ipython",
    "version": 3
   },
   "file_extension": ".py",
   "mimetype": "text/x-python",
   "name": "python",
   "nbconvert_exporter": "python",
   "pygments_lexer": "ipython3",
   "version": "3.8.10"
  },
  "toc": {
   "base_numbering": 1,
   "nav_menu": {},
   "number_sections": true,
   "sideBar": true,
   "skip_h1_title": false,
   "title_cell": "Table of Contents",
   "title_sidebar": "Contents",
   "toc_cell": false,
   "toc_position": {},
   "toc_section_display": true,
   "toc_window_display": false
  },
  "vscode": {
   "interpreter": {
    "hash": "0dc12b859b976848fa811fad33b4f2aa47124b6c15239b18f9dcbea69ef542e5"
   }
  },
  "widgets": {
   "application/vnd.jupyter.widget-state+json": {
    "24748067b50a4c9cbfca662d0b6423f4": {
     "model_module": "@jupyter-widgets/controls",
     "model_module_version": "1.5.0",
     "model_name": "HTMLModel",
     "state": {
      "_dom_classes": [],
      "_model_module": "@jupyter-widgets/controls",
      "_model_module_version": "1.5.0",
      "_model_name": "HTMLModel",
      "_view_count": null,
      "_view_module": "@jupyter-widgets/controls",
      "_view_module_version": "1.5.0",
      "_view_name": "HTMLView",
      "description": "",
      "description_tooltip": null,
      "layout": "IPY_MODEL_e7a88ae50d734eaabdc0263e4b550406",
      "placeholder": "​",
      "style": "IPY_MODEL_95f176e578ca40ebb3518b001457f7f5",
      "value": "Optimization Progress: 100%"
     }
    },
    "2c2adeb4585643749f51c46bb42174b4": {
     "model_module": "@jupyter-widgets/base",
     "model_module_version": "1.2.0",
     "model_name": "LayoutModel",
     "state": {
      "_model_module": "@jupyter-widgets/base",
      "_model_module_version": "1.2.0",
      "_model_name": "LayoutModel",
      "_view_count": null,
      "_view_module": "@jupyter-widgets/base",
      "_view_module_version": "1.2.0",
      "_view_name": "LayoutView",
      "align_content": null,
      "align_items": null,
      "align_self": null,
      "border": null,
      "bottom": null,
      "display": null,
      "flex": null,
      "flex_flow": null,
      "grid_area": null,
      "grid_auto_columns": null,
      "grid_auto_flow": null,
      "grid_auto_rows": null,
      "grid_column": null,
      "grid_gap": null,
      "grid_row": null,
      "grid_template_areas": null,
      "grid_template_columns": null,
      "grid_template_rows": null,
      "height": null,
      "justify_content": null,
      "justify_items": null,
      "left": null,
      "margin": null,
      "max_height": null,
      "max_width": null,
      "min_height": null,
      "min_width": null,
      "object_fit": null,
      "object_position": null,
      "order": null,
      "overflow": null,
      "overflow_x": null,
      "overflow_y": null,
      "padding": null,
      "right": null,
      "top": null,
      "visibility": null,
      "width": null
     }
    },
    "44e2069a8cca4b9f9590bc9fb612eeb7": {
     "model_module": "@jupyter-widgets/controls",
     "model_module_version": "1.5.0",
     "model_name": "HBoxModel",
     "state": {
      "_dom_classes": [],
      "_model_module": "@jupyter-widgets/controls",
      "_model_module_version": "1.5.0",
      "_model_name": "HBoxModel",
      "_view_count": null,
      "_view_module": "@jupyter-widgets/controls",
      "_view_module_version": "1.5.0",
      "_view_name": "HBoxView",
      "box_style": "",
      "children": [
       "IPY_MODEL_24748067b50a4c9cbfca662d0b6423f4",
       "IPY_MODEL_fe29b77a892c45e7bf4e0838f37169de",
       "IPY_MODEL_f003b9d0d886426cbea25d55918b225b"
      ],
      "layout": "IPY_MODEL_fd5a518320eb46b787ecf3ace46390b1"
     }
    },
    "5a11c0ec8f6a4518a4af8a94f090b449": {
     "model_module": "@jupyter-widgets/controls",
     "model_module_version": "1.5.0",
     "model_name": "DescriptionStyleModel",
     "state": {
      "_model_module": "@jupyter-widgets/controls",
      "_model_module_version": "1.5.0",
      "_model_name": "DescriptionStyleModel",
      "_view_count": null,
      "_view_module": "@jupyter-widgets/base",
      "_view_module_version": "1.2.0",
      "_view_name": "StyleView",
      "description_width": ""
     }
    },
    "6791ff6791884708aeb1a88b3b8fb721": {
     "model_module": "@jupyter-widgets/base",
     "model_module_version": "1.2.0",
     "model_name": "LayoutModel",
     "state": {
      "_model_module": "@jupyter-widgets/base",
      "_model_module_version": "1.2.0",
      "_model_name": "LayoutModel",
      "_view_count": null,
      "_view_module": "@jupyter-widgets/base",
      "_view_module_version": "1.2.0",
      "_view_name": "LayoutView",
      "align_content": null,
      "align_items": null,
      "align_self": null,
      "border": null,
      "bottom": null,
      "display": null,
      "flex": null,
      "flex_flow": null,
      "grid_area": null,
      "grid_auto_columns": null,
      "grid_auto_flow": null,
      "grid_auto_rows": null,
      "grid_column": null,
      "grid_gap": null,
      "grid_row": null,
      "grid_template_areas": null,
      "grid_template_columns": null,
      "grid_template_rows": null,
      "height": null,
      "justify_content": null,
      "justify_items": null,
      "left": null,
      "margin": null,
      "max_height": null,
      "max_width": null,
      "min_height": null,
      "min_width": null,
      "object_fit": null,
      "object_position": null,
      "order": null,
      "overflow": null,
      "overflow_x": null,
      "overflow_y": null,
      "padding": null,
      "right": null,
      "top": null,
      "visibility": null,
      "width": null
     }
    },
    "68dc045181094f1b9829cef1015be283": {
     "model_module": "@jupyter-widgets/controls",
     "model_module_version": "1.5.0",
     "model_name": "ProgressStyleModel",
     "state": {
      "_model_module": "@jupyter-widgets/controls",
      "_model_module_version": "1.5.0",
      "_model_name": "ProgressStyleModel",
      "_view_count": null,
      "_view_module": "@jupyter-widgets/base",
      "_view_module_version": "1.2.0",
      "_view_name": "StyleView",
      "bar_color": null,
      "description_width": ""
     }
    },
    "95f176e578ca40ebb3518b001457f7f5": {
     "model_module": "@jupyter-widgets/controls",
     "model_module_version": "1.5.0",
     "model_name": "DescriptionStyleModel",
     "state": {
      "_model_module": "@jupyter-widgets/controls",
      "_model_module_version": "1.5.0",
      "_model_name": "DescriptionStyleModel",
      "_view_count": null,
      "_view_module": "@jupyter-widgets/base",
      "_view_module_version": "1.2.0",
      "_view_name": "StyleView",
      "description_width": ""
     }
    },
    "e7a88ae50d734eaabdc0263e4b550406": {
     "model_module": "@jupyter-widgets/base",
     "model_module_version": "1.2.0",
     "model_name": "LayoutModel",
     "state": {
      "_model_module": "@jupyter-widgets/base",
      "_model_module_version": "1.2.0",
      "_model_name": "LayoutModel",
      "_view_count": null,
      "_view_module": "@jupyter-widgets/base",
      "_view_module_version": "1.2.0",
      "_view_name": "LayoutView",
      "align_content": null,
      "align_items": null,
      "align_self": null,
      "border": null,
      "bottom": null,
      "display": null,
      "flex": null,
      "flex_flow": null,
      "grid_area": null,
      "grid_auto_columns": null,
      "grid_auto_flow": null,
      "grid_auto_rows": null,
      "grid_column": null,
      "grid_gap": null,
      "grid_row": null,
      "grid_template_areas": null,
      "grid_template_columns": null,
      "grid_template_rows": null,
      "height": null,
      "justify_content": null,
      "justify_items": null,
      "left": null,
      "margin": null,
      "max_height": null,
      "max_width": null,
      "min_height": null,
      "min_width": null,
      "object_fit": null,
      "object_position": null,
      "order": null,
      "overflow": null,
      "overflow_x": null,
      "overflow_y": null,
      "padding": null,
      "right": null,
      "top": null,
      "visibility": null,
      "width": null
     }
    },
    "f003b9d0d886426cbea25d55918b225b": {
     "model_module": "@jupyter-widgets/controls",
     "model_module_version": "1.5.0",
     "model_name": "HTMLModel",
     "state": {
      "_dom_classes": [],
      "_model_module": "@jupyter-widgets/controls",
      "_model_module_version": "1.5.0",
      "_model_name": "HTMLModel",
      "_view_count": null,
      "_view_module": "@jupyter-widgets/controls",
      "_view_module_version": "1.5.0",
      "_view_name": "HTMLView",
      "description": "",
      "description_tooltip": null,
      "layout": "IPY_MODEL_6791ff6791884708aeb1a88b3b8fb721",
      "placeholder": "​",
      "style": "IPY_MODEL_5a11c0ec8f6a4518a4af8a94f090b449",
      "value": " 84/84 [00:15&lt;00:00, 28.56pipeline/s]"
     }
    },
    "fd5a518320eb46b787ecf3ace46390b1": {
     "model_module": "@jupyter-widgets/base",
     "model_module_version": "1.2.0",
     "model_name": "LayoutModel",
     "state": {
      "_model_module": "@jupyter-widgets/base",
      "_model_module_version": "1.2.0",
      "_model_name": "LayoutModel",
      "_view_count": null,
      "_view_module": "@jupyter-widgets/base",
      "_view_module_version": "1.2.0",
      "_view_name": "LayoutView",
      "align_content": null,
      "align_items": null,
      "align_self": null,
      "border": null,
      "bottom": null,
      "display": null,
      "flex": null,
      "flex_flow": null,
      "grid_area": null,
      "grid_auto_columns": null,
      "grid_auto_flow": null,
      "grid_auto_rows": null,
      "grid_column": null,
      "grid_gap": null,
      "grid_row": null,
      "grid_template_areas": null,
      "grid_template_columns": null,
      "grid_template_rows": null,
      "height": null,
      "justify_content": null,
      "justify_items": null,
      "left": null,
      "margin": null,
      "max_height": null,
      "max_width": null,
      "min_height": null,
      "min_width": null,
      "object_fit": null,
      "object_position": null,
      "order": null,
      "overflow": null,
      "overflow_x": null,
      "overflow_y": null,
      "padding": null,
      "right": null,
      "top": null,
      "visibility": "hidden",
      "width": null
     }
    },
    "fe29b77a892c45e7bf4e0838f37169de": {
     "model_module": "@jupyter-widgets/controls",
     "model_module_version": "1.5.0",
     "model_name": "FloatProgressModel",
     "state": {
      "_dom_classes": [],
      "_model_module": "@jupyter-widgets/controls",
      "_model_module_version": "1.5.0",
      "_model_name": "FloatProgressModel",
      "_view_count": null,
      "_view_module": "@jupyter-widgets/controls",
      "_view_module_version": "1.5.0",
      "_view_name": "ProgressView",
      "bar_style": "",
      "description": "",
      "description_tooltip": null,
      "layout": "IPY_MODEL_2c2adeb4585643749f51c46bb42174b4",
      "max": 84,
      "min": 0,
      "orientation": "horizontal",
      "style": "IPY_MODEL_68dc045181094f1b9829cef1015be283",
      "value": 84
     }
    }
   }
  }
 },
 "nbformat": 4,
 "nbformat_minor": 4
}
